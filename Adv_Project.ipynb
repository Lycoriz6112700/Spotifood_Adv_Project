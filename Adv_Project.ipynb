{
  "nbformat": 4,
  "nbformat_minor": 0,
  "metadata": {
    "colab": {
      "provenance": [],
      "collapsed_sections": [],
      "mount_file_id": "1VelFxMJrs6MSWlN0Qw9NF6QSbJwXZlh9",
      "authorship_tag": "ABX9TyNhZlesskJ579vMtdHkTVgO",
      "include_colab_link": true
    },
    "kernelspec": {
      "name": "python3",
      "display_name": "Python 3"
    },
    "language_info": {
      "name": "python"
    }
  },
  "cells": [
    {
      "cell_type": "markdown",
      "metadata": {
        "id": "view-in-github",
        "colab_type": "text"
      },
      "source": [
        "<a href=\"https://colab.research.google.com/github/Lycoriz6112700/Spotifood_Adv_Project/blob/main/Adv_Project.ipynb\" target=\"_parent\"><img src=\"https://colab.research.google.com/assets/colab-badge.svg\" alt=\"Open In Colab\"/></a>"
      ]
    },
    {
      "cell_type": "markdown",
      "source": [
        "กดตามเลขได้เลย แต่ตั้งแต่เลข 3 ก็ดูหลัง \"-\" ว่ามันของเลขไหน"
      ],
      "metadata": {
        "id": "jKp3JEEZGRHV"
      }
    },
    {
      "cell_type": "code",
      "execution_count": null,
      "metadata": {
        "id": "iA4paRg2l88p"
      },
      "outputs": [],
      "source": [
        "# 1\n",
        "!pip install pythainlp"
      ]
    },
    {
      "cell_type": "code",
      "source": [
        "# 2\n",
        "import pandas as pd\n",
        "import numpy as np\n",
        "import pythainlp\n",
        "import sklearn\n",
        "from sklearn import preprocessing\n",
        "from sklearn.preprocessing import LabelEncoder\n",
        "from sklearn.model_selection import train_test_split\n",
        "\n",
        "#ปิด warning\n",
        "from warnings import simplefilter\n",
        "simplefilter(action=\"ignore\", category=pd.errors.PerformanceWarning)\n",
        "\n",
        "#ส่วนของการเพิ่ม data table\n",
        "from google.colab import data_table\n",
        "data_table.enable_dataframe_formatter()\n",
        "\n",
        "mydataset = pd.read_csv ('/Mock/Mock_Food2.csv')\n",
        "x = mydataset.iloc[:,:].values\n",
        "le = LabelEncoder()\n",
        "p_le = preprocessing.LabelEncoder()\n",
        "ingres = set()\n",
        "for i in range(len(mydataset)):\n",
        "  taste =  x[:,2][i].split(\" \")\n",
        "  ingre = x[:,3][i].split(\" \")\n",
        "  try:\n",
        "    ingre.remove('')\n",
        "    ingre.remove('')\n",
        "  except:\n",
        "    skip = 0\n",
        "  for j in range(6):\n",
        "    try:\n",
        "      if taste[j] in [\"เค็ม\",\" เค็ม\",\" เค็ม \",\"เค็ม \"]:\n",
        "        taste[j] = 0\n",
        "      if taste[j] in [\"หวาน\",\" หวาน\",\" หวาน \",\"หวาน \"]:\n",
        "        taste[j] = 1\n",
        "      if taste[j] in [\"เปรี้ยว\",\" เปรี้ยว\",\" เปรี้ยว \",\"เปรี้ยว \"]:\n",
        "        taste[j] = 2\n",
        "      if taste[j] in [\"เผ็ด\",\" เผ็ด\",\" เผ็ด \",\"เผ็ด \"]:\n",
        "        taste[j] = 3\n",
        "      if taste[j] in [\"มัน\",\" มัน\",\" มัน \",\"มัน \"]:\n",
        "        taste[j] = 4\n",
        "      if taste[j] in [\"จืด\",\" จืด\",\" จืด \",\"จืด \"]:\n",
        "        taste[j] = 5\n",
        "      if taste[j] in [\"\"]:\n",
        "        taste = taste[:-1]\n",
        "    except:\n",
        "      break\n",
        "  for j in range(len(ingre)):\n",
        "    ingres.add(ingre[j])\n",
        "  # try:\n",
        "  #   x[:,2][i] = sorted(taste)\n",
        "  # except:\n",
        "  #   print(i , taste)\n",
        "  x[:,2][i] = sorted(taste)\n",
        "  x[:,3][i] = sorted(ingre)\n",
        "  # print(x[:,2])\n",
        "food_Names = x[:,0]\n",
        "food_Names = list(food_Names)\n",
        "list_ingres = list(ingres)\n",
        "print(list_ingres)\n",
        "# list_ingres = sorted(list_ingres)\n",
        "# list_ingres = p_le.fit_transform(list_ingres)\n",
        "# print(list_ingres)\n",
        "# print(ingre)\n",
        "# ro = list_ingres.index(\"ไข่เป็ด\")\n",
        "# print(ro)\n",
        "# for i in range(1):\n",
        "#   x[:,i+1]= le.fit_transform(x[:,i+1])\n",
        "# for i in range(len(mydataset)):\n",
        "#   for j in range(len(x[:,3][i])):\n",
        "#     posit_food = list_ingres.index(x[:,3][i][j])\n",
        "#     x[:,3][i][j] = list_ingres[posit_food]\n",
        "y = pd.DataFrame(x)\n",
        "# print(len(y[3][1]))\n",
        "# print(x[0,3][0])\n",
        "# print(y[:,3])\n",
        "# for i in range(len(list_ingres)):\n",
        "#   y[list_ingres[i]] = 0\n",
        "# y[list_ingres] = 0\n",
        "# for i in range(len(mydataset)):\n",
        "#   for j in range(len(y[3][i])):\n",
        "#     # print(len(x[:,3][i]))\n",
        "#     # print(x[:,3][i][j])\n",
        "#     y.loc[y.index[i],y[3][i][j]] = 1\n",
        "y"
      ],
      "metadata": {
        "id": "G4k2CZ7TnBxh"
      },
      "execution_count": null,
      "outputs": []
    },
    {
      "cell_type": "markdown",
      "source": [
        "ทางแยก Food"
      ],
      "metadata": {
        "id": "lbrqYgQJGjLK"
      }
    },
    {
      "cell_type": "code",
      "source": [
        "# 3 - Food\n",
        "columns = [\"Salty\",\"Sweet\",\"Sour\",\"Spicy\",\"Greasy\",\"Mild\"]\n",
        "z = pd.DataFrame(columns=columns)\n",
        "z.insert(0,'Types',y[1],True)\n",
        "\n",
        "for i in range(len(mydataset)):\n",
        "  for j in range(len(y[2][i])):\n",
        "    if y[2][i][j] in [0]:\n",
        "      z.loc[[i], \"Salty\"] = 1\n",
        "    if y[2][i][j] in [1]:\n",
        "      z.loc[[i], \"Sweet\"] = 1\n",
        "    if y[2][i][j] in [2]:\n",
        "      z.loc[[i], \"Sour\"] = 1\n",
        "    if y[2][i][j] in [3]:\n",
        "      z.loc[[i], \"Spicy\"] = 1\n",
        "    if y[2][i][j] in [4]:\n",
        "      z.loc[[i], \"Greasy\"] = 1\n",
        "    if y[2][i][j] in [5]:\n",
        "      z.loc[[i], \"Mild\"] = 1\n",
        "\n",
        "  for j in range(len(y[3][i])):\n",
        "    z.loc[y.index[i],y[3][i][j]] = 1\n",
        "\n",
        "z = z.fillna(0)\n",
        "z"
      ],
      "metadata": {
        "id": "dzQT2tXW8IOy"
      },
      "execution_count": null,
      "outputs": []
    },
    {
      "cell_type": "markdown",
      "source": [
        "ทางแยก User"
      ],
      "metadata": {
        "id": "IvbNoYQ9Gmny"
      }
    },
    {
      "cell_type": "code",
      "source": [
        "# 3 - User\n",
        "#เชื่อมตาราง Food และ User\n",
        "mydataset2 = pd.read_csv ('/Mock/Mock_User2.csv')\n",
        "x2 = mydataset2.iloc[:,:].values\n",
        "user_Type = list()\n",
        "user_Flavour = list()\n",
        "user_Ingres = list()\n",
        "\n",
        "for i in range(len(mydataset2)):\n",
        "  food_Name =  x2[:,4][i]\n",
        "  x2[:,1]= le.fit_transform(x2[:,1])\n",
        "  x2[:,3]= le.fit_transform(x2[:,3])\n",
        "  posit_food_name = food_Names.index(food_Name)\n",
        "  user_Type.append(x[:,1][posit_food_name])\n",
        "  user_Flavour.append(x[:,2][posit_food_name])\n",
        "  user_Ingres.append(x[:,3][posit_food_name])\n",
        "\n",
        "y2 = pd.DataFrame(x2)\n",
        "y2.insert(5,'Types',user_Type,True)\n",
        "y2.insert(6,'Flavours',user_Flavour,True)\n",
        "y2.insert(7,'Ingredients',user_Ingres,True)\n",
        "y2"
      ],
      "metadata": {
        "id": "tAULzZN9JBbf"
      },
      "execution_count": null,
      "outputs": []
    },
    {
      "cell_type": "code",
      "source": [
        "# 4 - User\n",
        "z2 = pd.DataFrame()\n",
        "\n",
        "z2.insert(0,'Job',x2[:,1],True)\n",
        "z2.insert(1,'Sex',x2[:,3],True)\n",
        "z2.insert(2,'Age',x2[:,2],True)\n",
        "z2.insert(3,'Food_Type',user_Type,True)\n",
        "z2"
      ],
      "metadata": {
        "id": "LvuQnxi8s6si"
      },
      "execution_count": null,
      "outputs": []
    },
    {
      "cell_type": "code",
      "source": [
        "# 4 - Food\n",
        "X = z.iloc[:,1:551]\n",
        "Y = z.iloc[:,0]"
      ],
      "metadata": {
        "id": "x8OmCA8t9LSk"
      },
      "execution_count": null,
      "outputs": []
    },
    {
      "cell_type": "code",
      "source": [
        "# 5 - User\n",
        "X2 = z2.iloc[:,[0,1,2]]\n",
        "Y2 = z2.iloc[:,3]"
      ],
      "metadata": {
        "id": "tY47UGsouonp"
      },
      "execution_count": null,
      "outputs": []
    },
    {
      "cell_type": "code",
      "source": [
        "# 5 - Food\n",
        "X_train, X_test, Y_train, Y_test = train_test_split(X, Y, test_size=0.3, random_state=7)"
      ],
      "metadata": {
        "id": "58xNaGj5-VaC"
      },
      "execution_count": null,
      "outputs": []
    },
    {
      "cell_type": "code",
      "source": [
        "# 6 - User\n",
        "X2_train, X2_test, Y2_train, Y2_test = train_test_split(X2, Y2, test_size=0.3, random_state=13)"
      ],
      "metadata": {
        "id": "gGUl1wJJumRt"
      },
      "execution_count": null,
      "outputs": []
    },
    {
      "cell_type": "code",
      "source": [
        "X_train.head()"
      ],
      "metadata": {
        "id": "mzoD0PjoAy8D"
      },
      "execution_count": null,
      "outputs": []
    },
    {
      "cell_type": "code",
      "source": [
        "X2_train.head()"
      ],
      "metadata": {
        "id": "GhTp4ryMA1fy"
      },
      "execution_count": null,
      "outputs": []
    },
    {
      "cell_type": "code",
      "source": [
        "Y_train.head()"
      ],
      "metadata": {
        "id": "HaDhWBiYA1l-"
      },
      "execution_count": null,
      "outputs": []
    },
    {
      "cell_type": "code",
      "source": [
        "Y2_train.head()"
      ],
      "metadata": {
        "id": "FGVja15PA1rM"
      },
      "execution_count": null,
      "outputs": []
    },
    {
      "cell_type": "code",
      "source": [
        "# 6 - Food\n",
        "from sklearn.preprocessing import StandardScaler \n",
        "\n",
        "scaler = StandardScaler()\n",
        "scaler.fit(X_train)\n",
        "\n",
        "X_train = scaler.transform(X_train)\n",
        "X_test = scaler.transform(X_test) "
      ],
      "metadata": {
        "id": "4ohJ6-GQA_hl"
      },
      "execution_count": null,
      "outputs": []
    },
    {
      "cell_type": "code",
      "source": [
        "# 7 - User\n",
        "# เหมาะสำหรับ User\n",
        "from sklearn.svm import SVC\n",
        "from sklearn.pipeline import Pipeline\n",
        "\n",
        "clf_SVC = Pipeline([\n",
        "    (\"linear_svc\", SVC(kernel=\"rbf\", gamma=2, C=10, max_iter=10000))\n",
        "])\n",
        "clf_SVC.fit(X2_train, Y2_train)"
      ],
      "metadata": {
        "id": "VGHgC25G_b1b",
        "colab": {
          "base_uri": "https://localhost:8080/"
        },
        "outputId": "0ce02707-1cd1-44d0-cb50-e38bb9d5e8ce"
      },
      "execution_count": null,
      "outputs": [
        {
          "output_type": "execute_result",
          "data": {
            "text/plain": [
              "Pipeline(steps=[('linear_svc', SVC(C=10, gamma=2, max_iter=10000))])"
            ]
          },
          "metadata": {},
          "execution_count": 478
        }
      ]
    },
    {
      "cell_type": "code",
      "source": [
        "# 8 - User\n",
        "print(\"Train set accuracy = \" + str(clf_SVC.score(X2_train, Y2_train)))\n",
        "print(\"Test set accuracy = \" + str(clf_SVC.score(X2_test, Y2_test)))"
      ],
      "metadata": {
        "id": "yv0B69yqeJdd",
        "colab": {
          "base_uri": "https://localhost:8080/"
        },
        "outputId": "18d4f0c0-8cf2-4571-9274-1edcbca6efbe"
      },
      "execution_count": null,
      "outputs": [
        {
          "output_type": "stream",
          "name": "stdout",
          "text": [
            "Train set accuracy = 0.7535816618911175\n",
            "Test set accuracy = 0.46\n"
          ]
        }
      ]
    },
    {
      "cell_type": "code",
      "source": [
        "# 7 - Food\n",
        "# สำหรับ Food\n",
        "import numpy\n",
        "from sklearn import linear_model\n",
        "\n",
        "logr = linear_model.LogisticRegression(solver='lbfgs', max_iter=1000)\n",
        "logr.fit(X_train, Y_train)"
      ],
      "metadata": {
        "colab": {
          "base_uri": "https://localhost:8080/"
        },
        "id": "kXXKEwA0VImW",
        "outputId": "167acb49-c611-4d0a-f15d-31b0decbc313"
      },
      "execution_count": null,
      "outputs": [
        {
          "output_type": "execute_result",
          "data": {
            "text/plain": [
              "LogisticRegression(max_iter=1000)"
            ]
          },
          "metadata": {},
          "execution_count": 476
        }
      ]
    },
    {
      "cell_type": "code",
      "source": [
        "# 8 - Food\n",
        "print(\"Test set accuracy = \" + str(logr.score(X_train, Y_train)))\n",
        "print(\"Test set accuracy = \" + str(logr.score(X_test, Y_test)))"
      ],
      "metadata": {
        "colab": {
          "base_uri": "https://localhost:8080/"
        },
        "id": "mY3JCCUHV9dq",
        "outputId": "9009217a-9b1e-45e5-9ee1-bae0dcfa0a9d"
      },
      "execution_count": null,
      "outputs": [
        {
          "output_type": "stream",
          "name": "stdout",
          "text": [
            "Test set accuracy = 1.0\n",
            "Test set accuracy = 0.6538461538461539\n"
          ]
        }
      ]
    },
    {
      "cell_type": "code",
      "source": [
        "from sklearn.neighbors import KNeighborsClassifier\n",
        "\n",
        "classifier = KNeighborsClassifier(n_neighbors=5)\n",
        "classifier.fit(X_train, Y_train)"
      ],
      "metadata": {
        "id": "M1q6WAWEFIJT"
      },
      "execution_count": null,
      "outputs": []
    },
    {
      "cell_type": "code",
      "source": [
        "print(\"Test set accuracy = \" + str(classifier.score(X_test, Y_test)))"
      ],
      "metadata": {
        "id": "HPR2O1JNxTTu"
      },
      "execution_count": null,
      "outputs": []
    },
    {
      "cell_type": "code",
      "source": [
        "from sklearn import tree\n",
        "\n",
        "classifier = tree.DecisionTreeClassifier()\n",
        "classifier = classifier.fit(X2_train, Y2_train)"
      ],
      "metadata": {
        "id": "J2il_778QFcQ"
      },
      "execution_count": null,
      "outputs": []
    },
    {
      "cell_type": "code",
      "source": [
        "print(classifier.predict(X2_test))"
      ],
      "metadata": {
        "id": "7166uqlcSsoq"
      },
      "execution_count": null,
      "outputs": []
    },
    {
      "cell_type": "code",
      "source": [
        "print(\"Test set accuracy = \" + str(classifier.score(X2_test, Y2_test)))"
      ],
      "metadata": {
        "id": "lpaDyEEPUoiq"
      },
      "execution_count": null,
      "outputs": []
    }
  ]
}